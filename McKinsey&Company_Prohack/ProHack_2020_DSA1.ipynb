{
 "cells": [
  {
   "cell_type": "code",
   "execution_count": 233,
   "id": "d9fca173",
   "metadata": {},
   "outputs": [],
   "source": [
    "import pandas as pd\n",
    "import numpy as np\n",
    "import re\n",
    "import matplotlib.pyplot as plt\n",
    "import seaborn as sns"
   ]
  },
  {
   "cell_type": "code",
   "execution_count": 234,
   "id": "26cf39ca",
   "metadata": {},
   "outputs": [],
   "source": [
    "data=pd.read_excel('data_cleaning.xlsx', sheet_name=1, header=0)\n",
    "df=data.copy()"
   ]
  },
  {
   "cell_type": "code",
   "execution_count": 235,
   "id": "d1255f46",
   "metadata": {},
   "outputs": [],
   "source": [
    "aylar=['January', 'February', 'March', 'April', 'May', 'June', 'July', 'August', 'September', 'October', 'November', 'December']\n",
    "ayliq_qiymet=[0.20, 0.19, 0.17, 0.18, 0.22, 0.27, 0.24, 0.19, 0.18, 0.15, 0.14, 0.19]"
   ]
  },
  {
   "cell_type": "code",
   "execution_count": 236,
   "id": "3dd24064",
   "metadata": {},
   "outputs": [],
   "source": [
    "saat=['11PM until 12AM', '12AM until 1AM', '1AM until 2AM', '2AM until 3AM', \n",
    "      '3AM until 4AM', '4AM until 5AM', '5AM until 6AM','6AM until 7AM', \n",
    "      '7AM until 8AM', '8AM until 9AM', '9AM until 10AM', '10AM until 11AM', \n",
    "      '11AM until 12PM', '12PM until 1PM', '1PM until 2PM', '2PM until 3PM', \n",
    "      '3PM until 4PM', '4PM until 5PM', '5PM until 6PM', '6PM until 7PM', \n",
    "      '7PM until 8PM', '8PM until 9PM', '9PM until 10PM', '10PM until 11PM']\n",
    "saatliq_qiymet=[0.10, 0.10, 0.10, 0.10, 0.10, 0.15, 0.20, 0.24, 0.24, 0.26, 0.20, 0.20,\n",
    "       0.26, 0.26, 0.20, 0.24, 0.18, 0.15, 0.30, 0.24, 0.24, 0.12, 0.11, 0.10]"
   ]
  },
  {
   "cell_type": "markdown",
   "id": "4942f749",
   "metadata": {},
   "source": [
    "<H4>Push header to first row"
   ]
  },
  {
   "cell_type": "code",
   "execution_count": 237,
   "id": "315dea42",
   "metadata": {},
   "outputs": [],
   "source": [
    "df.loc[-1] = df.columns.values\n",
    "df.sort_index(inplace=True)\n",
    "df.reset_index(drop=True, inplace=True)\n",
    "df.rename(columns=\n",
    "    {str(df.columns[0]): \"z\"}, \n",
    "    inplace=True)"
   ]
  },
  {
   "cell_type": "markdown",
   "id": "a5f02ec4",
   "metadata": {},
   "source": [
    "<H4>Data cleaning using Regex and input info to the lists."
   ]
  },
  {
   "cell_type": "code",
   "execution_count": 238,
   "id": "a2e71e38",
   "metadata": {},
   "outputs": [],
   "source": [
    "Time, AM_PM, Weekday, Month, Date, Usage, Unit, time=[], [], [], [], [], [], [], []\n",
    "for i in range(len(df)): \n",
    "    regex=list(re.findall('_*(\\d*)\\s*(.M)\\s*([A-z]*)\\s*(\\d*)\\w*-(\\w*)-(\\d*)_*(\\d*.\\d*)\\s*(\\w*)',str(df.loc[i,'z'].strip()))[0])\n",
    "    Time.append(regex[0]+\" \"+regex[1])\n",
    "    time.append(regex[0])\n",
    "    AM_PM.append(regex[1])\n",
    "    Weekday.append(regex[2])\n",
    "    Month.append(regex[4])\n",
    "    Date.append(regex[3]+'-'+regex[4]+'-'+regex[5])\n",
    "    Usage.append(regex[6])\n",
    "    Unit.append(regex[7])"
   ]
  },
  {
   "cell_type": "code",
   "execution_count": 169,
   "id": "0fb45ea1",
   "metadata": {},
   "outputs": [],
   "source": [
    "df=pd.DataFrame({'Time':Time,\n",
    "   'Weekday':Weekday,\n",
    "   'Month':Month,\n",
    "   'Date':Date,\n",
    "   'Usage':Usage,\n",
    "   'Unit':Unit,})"
   ]
  },
  {
   "cell_type": "markdown",
   "id": "4bdabacf",
   "metadata": {},
   "source": [
    "<H4>Change column type"
   ]
  },
  {
   "cell_type": "code",
   "execution_count": 170,
   "id": "489412d4",
   "metadata": {},
   "outputs": [],
   "source": [
    "df[\"Usage\"] = pd.to_numeric(df[\"Usage\"])\n",
    "df[\"Date\"] = pd.to_datetime(df[\"Date\"], format='%d-%b-%Y')"
   ]
  },
  {
   "cell_type": "markdown",
   "id": "ccb89103",
   "metadata": {},
   "source": [
    "<H4>I have imported date from datetime. Aim is to get Weekdays from \"Date\" column"
   ]
  },
  {
   "cell_type": "code",
   "execution_count": 171,
   "id": "95dcfbce",
   "metadata": {},
   "outputs": [],
   "source": [
    "from datetime import date\n",
    "w = ['Monday', 'Tuesday', 'Wednesday', 'Thursday', 'Friday', 'Saturday', 'Sunday']\n",
    "Weekday = []\n",
    "for i in df['Date']:\n",
    "    Weekday.append(w[i.weekday()])\n",
    "df['Weekday'] = Weekday"
   ]
  },
  {
   "cell_type": "code",
   "execution_count": 172,
   "id": "62ee4e07",
   "metadata": {},
   "outputs": [
    {
     "data": {
      "text/html": [
       "<div>\n",
       "<style scoped>\n",
       "    .dataframe tbody tr th:only-of-type {\n",
       "        vertical-align: middle;\n",
       "    }\n",
       "\n",
       "    .dataframe tbody tr th {\n",
       "        vertical-align: top;\n",
       "    }\n",
       "\n",
       "    .dataframe thead th {\n",
       "        text-align: right;\n",
       "    }\n",
       "</style>\n",
       "<table border=\"1\" class=\"dataframe\">\n",
       "  <thead>\n",
       "    <tr style=\"text-align: right;\">\n",
       "      <th></th>\n",
       "      <th>Time</th>\n",
       "      <th>Weekday</th>\n",
       "      <th>Month</th>\n",
       "      <th>Date</th>\n",
       "      <th>Usage</th>\n",
       "      <th>Unit</th>\n",
       "    </tr>\n",
       "  </thead>\n",
       "  <tbody>\n",
       "    <tr>\n",
       "      <th>0</th>\n",
       "      <td>3 PM</td>\n",
       "      <td>Monday</td>\n",
       "      <td>Mar</td>\n",
       "      <td>2014-03-24</td>\n",
       "      <td>0.384</td>\n",
       "      <td>kwh</td>\n",
       "    </tr>\n",
       "    <tr>\n",
       "      <th>1</th>\n",
       "      <td>5 AM</td>\n",
       "      <td>Friday</td>\n",
       "      <td>Aug</td>\n",
       "      <td>2014-08-15</td>\n",
       "      <td>1.201</td>\n",
       "      <td>kwh</td>\n",
       "    </tr>\n",
       "    <tr>\n",
       "      <th>2</th>\n",
       "      <td>8 PM</td>\n",
       "      <td>Thursday</td>\n",
       "      <td>Mar</td>\n",
       "      <td>2014-03-20</td>\n",
       "      <td>1.523</td>\n",
       "      <td>kwh</td>\n",
       "    </tr>\n",
       "    <tr>\n",
       "      <th>3</th>\n",
       "      <td>6 PM</td>\n",
       "      <td>Wednesday</td>\n",
       "      <td>Apr</td>\n",
       "      <td>2014-04-23</td>\n",
       "      <td>0.424</td>\n",
       "      <td>kwh</td>\n",
       "    </tr>\n",
       "    <tr>\n",
       "      <th>4</th>\n",
       "      <td>1 AM</td>\n",
       "      <td>Friday</td>\n",
       "      <td>Dec</td>\n",
       "      <td>2014-12-19</td>\n",
       "      <td>0.209</td>\n",
       "      <td>kwh</td>\n",
       "    </tr>\n",
       "    <tr>\n",
       "      <th>...</th>\n",
       "      <td>...</td>\n",
       "      <td>...</td>\n",
       "      <td>...</td>\n",
       "      <td>...</td>\n",
       "      <td>...</td>\n",
       "      <td>...</td>\n",
       "    </tr>\n",
       "    <tr>\n",
       "      <th>8755</th>\n",
       "      <td>1 AM</td>\n",
       "      <td>Friday</td>\n",
       "      <td>Nov</td>\n",
       "      <td>2014-11-07</td>\n",
       "      <td>0.084</td>\n",
       "      <td>kwh</td>\n",
       "    </tr>\n",
       "    <tr>\n",
       "      <th>8756</th>\n",
       "      <td>6 AM</td>\n",
       "      <td>Tuesday</td>\n",
       "      <td>May</td>\n",
       "      <td>2014-05-20</td>\n",
       "      <td>1.027</td>\n",
       "      <td>kwh</td>\n",
       "    </tr>\n",
       "    <tr>\n",
       "      <th>8757</th>\n",
       "      <td>2 AM</td>\n",
       "      <td>Tuesday</td>\n",
       "      <td>Apr</td>\n",
       "      <td>2014-04-08</td>\n",
       "      <td>0.052</td>\n",
       "      <td>kwh</td>\n",
       "    </tr>\n",
       "    <tr>\n",
       "      <th>8758</th>\n",
       "      <td>9 PM</td>\n",
       "      <td>Monday</td>\n",
       "      <td>Jan</td>\n",
       "      <td>2014-01-27</td>\n",
       "      <td>1.428</td>\n",
       "      <td>kwh</td>\n",
       "    </tr>\n",
       "    <tr>\n",
       "      <th>8759</th>\n",
       "      <td>12 PM</td>\n",
       "      <td>Monday</td>\n",
       "      <td>Aug</td>\n",
       "      <td>2014-08-25</td>\n",
       "      <td>0.528</td>\n",
       "      <td>kwh</td>\n",
       "    </tr>\n",
       "  </tbody>\n",
       "</table>\n",
       "<p>8760 rows × 6 columns</p>\n",
       "</div>"
      ],
      "text/plain": [
       "       Time    Weekday Month       Date  Usage Unit\n",
       "0      3 PM     Monday   Mar 2014-03-24  0.384  kwh\n",
       "1      5 AM     Friday   Aug 2014-08-15  1.201  kwh\n",
       "2      8 PM   Thursday   Mar 2014-03-20  1.523  kwh\n",
       "3      6 PM  Wednesday   Apr 2014-04-23  0.424  kwh\n",
       "4      1 AM     Friday   Dec 2014-12-19  0.209  kwh\n",
       "...     ...        ...   ...        ...    ...  ...\n",
       "8755   1 AM     Friday   Nov 2014-11-07  0.084  kwh\n",
       "8756   6 AM    Tuesday   May 2014-05-20  1.027  kwh\n",
       "8757   2 AM    Tuesday   Apr 2014-04-08  0.052  kwh\n",
       "8758   9 PM     Monday   Jan 2014-01-27  1.428  kwh\n",
       "8759  12 PM     Monday   Aug 2014-08-25  0.528  kwh\n",
       "\n",
       "[8760 rows x 6 columns]"
      ]
     },
     "execution_count": 172,
     "metadata": {},
     "output_type": "execute_result"
    }
   ],
   "source": [
    "df"
   ]
  },
  {
   "cell_type": "code",
   "execution_count": 215,
   "id": "927425e3",
   "metadata": {
    "scrolled": false
   },
   "outputs": [
    {
     "data": {
      "image/png": "[encoded data removed]",
      "text/plain": [
       "<Figure size 1500x600 with 1 Axes>"
      ]
     },
     "metadata": {},
     "output_type": "display_data"
    }
   ],
   "source": [
    "import pandas as pd\n",
    "import matplotlib.pyplot as plt\n",
    "import seaborn as sns\n",
    "\n",
    "# group the data by month and calculate the mean usage\n",
    "df_mean = df.groupby(pd.PeriodIndex(df['Date'], freq=\"M\")).mean().reset_index()\n",
    "df_mean['Date'] = month\n",
    "\n",
    "# create the figure and axis objects\n",
    "fig, ax = plt.subplots(figsize=(15, 6))\n",
    "\n",
    "# create the bar plot\n",
    "sns.barplot(x='Date', y='Usage', data=df_mean, ax=ax)\n",
    "\n",
    "# add text labels for the bar heights\n",
    "for i, v in enumerate(df_mean['Usage']):\n",
    "    ax.text(i - 0.4, v + 0.02, str(round(v, 4)) + ' kwh')\n",
    "\n",
    "# set the x-axis and y-axis labels\n",
    "ax.set_xlabel('Month')\n",
    "ax.set_ylabel('Usage')\n",
    "\n",
    "# set the plot title\n",
    "ax.set_title('Monthly Average Usage')\n",
    "\n",
    "# display the plot\n",
    "plt.show()\n"
   ]
  },
  {
   "cell_type": "markdown",
   "id": "3ed6d180",
   "metadata": {},
   "source": [
    "<H1>No Flex\n",
    "<H6>Price=0.21 $"
   ]
  },
  {
   "cell_type": "code",
   "execution_count": 216,
   "id": "c5076e61",
   "metadata": {},
   "outputs": [
    {
     "name": "stdout",
     "output_type": "stream",
     "text": [
      "Annual cost at a fixed price of electricity: 1438.10 $\n"
     ]
    }
   ],
   "source": [
    "df_monthly_total = df.groupby(pd.PeriodIndex(df['Date'], freq='M'))['Usage'].sum()\n",
    "\n",
    "# calculate the annual cost at a fixed price of electricity\n",
    "fixed_price = 0.21\n",
    "annual_cost = df_monthly_total.sum() * fixed_price\n",
    "\n",
    "# print the result\n",
    "print(f'Annual cost at a fixed price of electricity: {annual_cost:.2f} $')"
   ]
  },
  {
   "cell_type": "markdown",
   "id": "a7cb8000",
   "metadata": {},
   "source": [
    "<H3>Ayliq tarif"
   ]
  },
  {
   "cell_type": "markdown",
   "id": "698af48b",
   "metadata": {},
   "source": [
    "<H4>Group by Month"
   ]
  },
  {
   "cell_type": "code",
   "execution_count": 175,
   "id": "7fe017f0",
   "metadata": {},
   "outputs": [],
   "source": [
    "df_sum = df.groupby(pd.PeriodIndex(df['Date'], freq=\"M\")).sum().reset_index()"
   ]
  },
  {
   "cell_type": "markdown",
   "id": "7a917727",
   "metadata": {},
   "source": [
    "<H4>Aylari ve qiymet"
   ]
  },
  {
   "cell_type": "code",
   "execution_count": 176,
   "id": "f8566b2f",
   "metadata": {},
   "outputs": [],
   "source": [
    "df_sum['Aylar'] = aylar\n",
    "df_sum['Qiymet'] = ayliq_qiymet"
   ]
  },
  {
   "cell_type": "code",
   "execution_count": 177,
   "id": "cc796e97",
   "metadata": {
    "scrolled": true
   },
   "outputs": [
    {
     "data": {
      "text/html": [
       "<div>\n",
       "<style scoped>\n",
       "    .dataframe tbody tr th:only-of-type {\n",
       "        vertical-align: middle;\n",
       "    }\n",
       "\n",
       "    .dataframe tbody tr th {\n",
       "        vertical-align: top;\n",
       "    }\n",
       "\n",
       "    .dataframe thead th {\n",
       "        text-align: right;\n",
       "    }\n",
       "</style>\n",
       "<table border=\"1\" class=\"dataframe\">\n",
       "  <thead>\n",
       "    <tr style=\"text-align: right;\">\n",
       "      <th></th>\n",
       "      <th>Date</th>\n",
       "      <th>Usage</th>\n",
       "      <th>Aylar</th>\n",
       "      <th>Qiymet</th>\n",
       "    </tr>\n",
       "  </thead>\n",
       "  <tbody>\n",
       "    <tr>\n",
       "      <th>0</th>\n",
       "      <td>2014-01</td>\n",
       "      <td>1042.660</td>\n",
       "      <td>January</td>\n",
       "      <td>0.20</td>\n",
       "    </tr>\n",
       "    <tr>\n",
       "      <th>1</th>\n",
       "      <td>2014-02</td>\n",
       "      <td>559.436</td>\n",
       "      <td>February</td>\n",
       "      <td>0.19</td>\n",
       "    </tr>\n",
       "    <tr>\n",
       "      <th>2</th>\n",
       "      <td>2014-03</td>\n",
       "      <td>422.655</td>\n",
       "      <td>March</td>\n",
       "      <td>0.17</td>\n",
       "    </tr>\n",
       "    <tr>\n",
       "      <th>3</th>\n",
       "      <td>2014-04</td>\n",
       "      <td>151.666</td>\n",
       "      <td>April</td>\n",
       "      <td>0.18</td>\n",
       "    </tr>\n",
       "    <tr>\n",
       "      <th>4</th>\n",
       "      <td>2014-05</td>\n",
       "      <td>416.813</td>\n",
       "      <td>May</td>\n",
       "      <td>0.22</td>\n",
       "    </tr>\n",
       "    <tr>\n",
       "      <th>5</th>\n",
       "      <td>2014-06</td>\n",
       "      <td>899.904</td>\n",
       "      <td>June</td>\n",
       "      <td>0.27</td>\n",
       "    </tr>\n",
       "    <tr>\n",
       "      <th>6</th>\n",
       "      <td>2014-07</td>\n",
       "      <td>1255.351</td>\n",
       "      <td>July</td>\n",
       "      <td>0.24</td>\n",
       "    </tr>\n",
       "    <tr>\n",
       "      <th>7</th>\n",
       "      <td>2014-08</td>\n",
       "      <td>635.819</td>\n",
       "      <td>August</td>\n",
       "      <td>0.19</td>\n",
       "    </tr>\n",
       "    <tr>\n",
       "      <th>8</th>\n",
       "      <td>2014-09</td>\n",
       "      <td>348.723</td>\n",
       "      <td>September</td>\n",
       "      <td>0.18</td>\n",
       "    </tr>\n",
       "    <tr>\n",
       "      <th>9</th>\n",
       "      <td>2014-10</td>\n",
       "      <td>313.719</td>\n",
       "      <td>October</td>\n",
       "      <td>0.15</td>\n",
       "    </tr>\n",
       "    <tr>\n",
       "      <th>10</th>\n",
       "      <td>2014-11</td>\n",
       "      <td>232.420</td>\n",
       "      <td>November</td>\n",
       "      <td>0.14</td>\n",
       "    </tr>\n",
       "    <tr>\n",
       "      <th>11</th>\n",
       "      <td>2014-12</td>\n",
       "      <td>568.948</td>\n",
       "      <td>December</td>\n",
       "      <td>0.19</td>\n",
       "    </tr>\n",
       "  </tbody>\n",
       "</table>\n",
       "</div>"
      ],
      "text/plain": [
       "       Date     Usage      Aylar  Qiymet\n",
       "0   2014-01  1042.660    January    0.20\n",
       "1   2014-02   559.436   February    0.19\n",
       "2   2014-03   422.655      March    0.17\n",
       "3   2014-04   151.666      April    0.18\n",
       "4   2014-05   416.813        May    0.22\n",
       "5   2014-06   899.904       June    0.27\n",
       "6   2014-07  1255.351       July    0.24\n",
       "7   2014-08   635.819     August    0.19\n",
       "8   2014-09   348.723  September    0.18\n",
       "9   2014-10   313.719    October    0.15\n",
       "10  2014-11   232.420   November    0.14\n",
       "11  2014-12   568.948   December    0.19"
      ]
     },
     "execution_count": 177,
     "metadata": {},
     "output_type": "execute_result"
    }
   ],
   "source": [
    "df_sum"
   ]
  },
  {
   "cell_type": "code",
   "execution_count": 218,
   "id": "d19e6927",
   "metadata": {
    "scrolled": false
   },
   "outputs": [
    {
     "name": "stdout",
     "output_type": "stream",
     "text": [
      "Annual cost at a Monthly Flex of electricity:  1421.20577 $\n"
     ]
    }
   ],
   "source": [
    "print('Annual cost at a Monthly Flex of electricity: ',(df_sum['Qiymet'] * df_sum['Usage']).sum(),'$')"
   ]
  },
  {
   "cell_type": "markdown",
   "id": "c44a8cb2",
   "metadata": {},
   "source": [
    "<H1>Saatliq Tarif"
   ]
  },
  {
   "cell_type": "code",
   "execution_count": 179,
   "id": "21834f3a",
   "metadata": {},
   "outputs": [],
   "source": [
    "df_sum_hour = df.groupby(pd.PeriodIndex(df['Time'], freq = \"h\")).sum().reset_index()"
   ]
  },
  {
   "cell_type": "code",
   "execution_count": 180,
   "id": "7cf22303",
   "metadata": {},
   "outputs": [],
   "source": [
    "df_sum_hour['Saat']=saat\n",
    "df_sum_hour['Qiymet']=saatliq_qiymet"
   ]
  },
  {
   "cell_type": "code",
   "execution_count": 181,
   "id": "64329fed",
   "metadata": {},
   "outputs": [
    {
     "data": {
      "text/html": [
       "<div>\n",
       "<style scoped>\n",
       "    .dataframe tbody tr th:only-of-type {\n",
       "        vertical-align: middle;\n",
       "    }\n",
       "\n",
       "    .dataframe tbody tr th {\n",
       "        vertical-align: top;\n",
       "    }\n",
       "\n",
       "    .dataframe thead th {\n",
       "        text-align: right;\n",
       "    }\n",
       "</style>\n",
       "<table border=\"1\" class=\"dataframe\">\n",
       "  <thead>\n",
       "    <tr style=\"text-align: right;\">\n",
       "      <th></th>\n",
       "      <th>Time</th>\n",
       "      <th>Usage</th>\n",
       "      <th>Saat</th>\n",
       "      <th>Qiymet</th>\n",
       "    </tr>\n",
       "  </thead>\n",
       "  <tbody>\n",
       "    <tr>\n",
       "      <th>0</th>\n",
       "      <td>0001-01-01 00:00</td>\n",
       "      <td>181.638</td>\n",
       "      <td>11PM until 12AM</td>\n",
       "      <td>0.10</td>\n",
       "    </tr>\n",
       "    <tr>\n",
       "      <th>1</th>\n",
       "      <td>0001-01-01 01:00</td>\n",
       "      <td>93.966</td>\n",
       "      <td>12AM until 1AM</td>\n",
       "      <td>0.10</td>\n",
       "    </tr>\n",
       "    <tr>\n",
       "      <th>2</th>\n",
       "      <td>0001-01-01 02:00</td>\n",
       "      <td>92.192</td>\n",
       "      <td>1AM until 2AM</td>\n",
       "      <td>0.10</td>\n",
       "    </tr>\n",
       "    <tr>\n",
       "      <th>3</th>\n",
       "      <td>0001-01-01 03:00</td>\n",
       "      <td>92.315</td>\n",
       "      <td>2AM until 3AM</td>\n",
       "      <td>0.10</td>\n",
       "    </tr>\n",
       "    <tr>\n",
       "      <th>4</th>\n",
       "      <td>0001-01-01 04:00</td>\n",
       "      <td>93.596</td>\n",
       "      <td>3AM until 4AM</td>\n",
       "      <td>0.10</td>\n",
       "    </tr>\n",
       "    <tr>\n",
       "      <th>5</th>\n",
       "      <td>0001-01-01 05:00</td>\n",
       "      <td>354.582</td>\n",
       "      <td>4AM until 5AM</td>\n",
       "      <td>0.15</td>\n",
       "    </tr>\n",
       "    <tr>\n",
       "      <th>6</th>\n",
       "      <td>0001-01-01 06:00</td>\n",
       "      <td>446.288</td>\n",
       "      <td>5AM until 6AM</td>\n",
       "      <td>0.20</td>\n",
       "    </tr>\n",
       "    <tr>\n",
       "      <th>7</th>\n",
       "      <td>0001-01-01 07:00</td>\n",
       "      <td>399.243</td>\n",
       "      <td>6AM until 7AM</td>\n",
       "      <td>0.24</td>\n",
       "    </tr>\n",
       "    <tr>\n",
       "      <th>8</th>\n",
       "      <td>0001-01-01 08:00</td>\n",
       "      <td>268.043</td>\n",
       "      <td>7AM until 8AM</td>\n",
       "      <td>0.24</td>\n",
       "    </tr>\n",
       "    <tr>\n",
       "      <th>9</th>\n",
       "      <td>0001-01-01 09:00</td>\n",
       "      <td>190.439</td>\n",
       "      <td>8AM until 9AM</td>\n",
       "      <td>0.26</td>\n",
       "    </tr>\n",
       "    <tr>\n",
       "      <th>10</th>\n",
       "      <td>0001-01-01 10:00</td>\n",
       "      <td>183.174</td>\n",
       "      <td>9AM until 10AM</td>\n",
       "      <td>0.20</td>\n",
       "    </tr>\n",
       "    <tr>\n",
       "      <th>11</th>\n",
       "      <td>0001-01-01 11:00</td>\n",
       "      <td>213.951</td>\n",
       "      <td>10AM until 11AM</td>\n",
       "      <td>0.20</td>\n",
       "    </tr>\n",
       "    <tr>\n",
       "      <th>12</th>\n",
       "      <td>0001-01-01 12:00</td>\n",
       "      <td>212.546</td>\n",
       "      <td>11AM until 12PM</td>\n",
       "      <td>0.26</td>\n",
       "    </tr>\n",
       "    <tr>\n",
       "      <th>13</th>\n",
       "      <td>0001-01-01 13:00</td>\n",
       "      <td>184.716</td>\n",
       "      <td>12PM until 1PM</td>\n",
       "      <td>0.26</td>\n",
       "    </tr>\n",
       "    <tr>\n",
       "      <th>14</th>\n",
       "      <td>0001-01-01 14:00</td>\n",
       "      <td>208.166</td>\n",
       "      <td>1PM until 2PM</td>\n",
       "      <td>0.20</td>\n",
       "    </tr>\n",
       "    <tr>\n",
       "      <th>15</th>\n",
       "      <td>0001-01-01 15:00</td>\n",
       "      <td>220.122</td>\n",
       "      <td>2PM until 3PM</td>\n",
       "      <td>0.24</td>\n",
       "    </tr>\n",
       "    <tr>\n",
       "      <th>16</th>\n",
       "      <td>0001-01-01 16:00</td>\n",
       "      <td>219.374</td>\n",
       "      <td>3PM until 4PM</td>\n",
       "      <td>0.18</td>\n",
       "    </tr>\n",
       "    <tr>\n",
       "      <th>17</th>\n",
       "      <td>0001-01-01 17:00</td>\n",
       "      <td>481.243</td>\n",
       "      <td>4PM until 5PM</td>\n",
       "      <td>0.15</td>\n",
       "    </tr>\n",
       "    <tr>\n",
       "      <th>18</th>\n",
       "      <td>0001-01-01 18:00</td>\n",
       "      <td>619.418</td>\n",
       "      <td>5PM until 6PM</td>\n",
       "      <td>0.30</td>\n",
       "    </tr>\n",
       "    <tr>\n",
       "      <th>19</th>\n",
       "      <td>0001-01-01 19:00</td>\n",
       "      <td>731.126</td>\n",
       "      <td>6PM until 7PM</td>\n",
       "      <td>0.24</td>\n",
       "    </tr>\n",
       "    <tr>\n",
       "      <th>20</th>\n",
       "      <td>0001-01-01 20:00</td>\n",
       "      <td>670.779</td>\n",
       "      <td>7PM until 8PM</td>\n",
       "      <td>0.24</td>\n",
       "    </tr>\n",
       "    <tr>\n",
       "      <th>21</th>\n",
       "      <td>0001-01-01 21:00</td>\n",
       "      <td>223.139</td>\n",
       "      <td>8PM until 9PM</td>\n",
       "      <td>0.12</td>\n",
       "    </tr>\n",
       "    <tr>\n",
       "      <th>22</th>\n",
       "      <td>0001-01-01 22:00</td>\n",
       "      <td>210.731</td>\n",
       "      <td>9PM until 10PM</td>\n",
       "      <td>0.11</td>\n",
       "    </tr>\n",
       "    <tr>\n",
       "      <th>23</th>\n",
       "      <td>0001-01-01 23:00</td>\n",
       "      <td>257.327</td>\n",
       "      <td>10PM until 11PM</td>\n",
       "      <td>0.10</td>\n",
       "    </tr>\n",
       "  </tbody>\n",
       "</table>\n",
       "</div>"
      ],
      "text/plain": [
       "                Time    Usage             Saat  Qiymet\n",
       "0   0001-01-01 00:00  181.638  11PM until 12AM    0.10\n",
       "1   0001-01-01 01:00   93.966   12AM until 1AM    0.10\n",
       "2   0001-01-01 02:00   92.192    1AM until 2AM    0.10\n",
       "3   0001-01-01 03:00   92.315    2AM until 3AM    0.10\n",
       "4   0001-01-01 04:00   93.596    3AM until 4AM    0.10\n",
       "5   0001-01-01 05:00  354.582    4AM until 5AM    0.15\n",
       "6   0001-01-01 06:00  446.288    5AM until 6AM    0.20\n",
       "7   0001-01-01 07:00  399.243    6AM until 7AM    0.24\n",
       "8   0001-01-01 08:00  268.043    7AM until 8AM    0.24\n",
       "9   0001-01-01 09:00  190.439    8AM until 9AM    0.26\n",
       "10  0001-01-01 10:00  183.174   9AM until 10AM    0.20\n",
       "11  0001-01-01 11:00  213.951  10AM until 11AM    0.20\n",
       "12  0001-01-01 12:00  212.546  11AM until 12PM    0.26\n",
       "13  0001-01-01 13:00  184.716   12PM until 1PM    0.26\n",
       "14  0001-01-01 14:00  208.166    1PM until 2PM    0.20\n",
       "15  0001-01-01 15:00  220.122    2PM until 3PM    0.24\n",
       "16  0001-01-01 16:00  219.374    3PM until 4PM    0.18\n",
       "17  0001-01-01 17:00  481.243    4PM until 5PM    0.15\n",
       "18  0001-01-01 18:00  619.418    5PM until 6PM    0.30\n",
       "19  0001-01-01 19:00  731.126    6PM until 7PM    0.24\n",
       "20  0001-01-01 20:00  670.779    7PM until 8PM    0.24\n",
       "21  0001-01-01 21:00  223.139    8PM until 9PM    0.12\n",
       "22  0001-01-01 22:00  210.731   9PM until 10PM    0.11\n",
       "23  0001-01-01 23:00  257.327  10PM until 11PM    0.10"
      ]
     },
     "execution_count": 181,
     "metadata": {},
     "output_type": "execute_result"
    }
   ],
   "source": [
    "df_sum_hour"
   ]
  },
  {
   "cell_type": "code",
   "execution_count": 200,
   "id": "3871479d",
   "metadata": {},
   "outputs": [
    {
     "name": "stdout",
     "output_type": "stream",
     "text": [
      "Annual cost at a Hourly Flex of electricity:  1394.3001399999998 $\n"
     ]
    }
   ],
   "source": [
    "print('Annual cost at a Hourly Flex of electricity: ',(df_sum_hour['Usage'] * df_sum_hour['Qiymet']).sum(),'$')"
   ]
  },
  {
   "cell_type": "markdown",
   "id": "32433e86",
   "metadata": {},
   "source": [
    "<H3>Saul 1\n",
    "<H6>What is your average hourly electricity usage?"
   ]
  },
  {
   "cell_type": "code",
   "execution_count": 201,
   "id": "268c6c34",
   "metadata": {},
   "outputs": [
    {
     "name": "stdout",
     "output_type": "stream",
     "text": [
      "Average hourly electricity usage: 0.782 kwh\u001b[0m\n"
     ]
    }
   ],
   "source": [
    "print('Average hourly electricity usage:', round(df.groupby(pd.PeriodIndex(df['Time'], freq = \"h\")).mean().reset_index()['Usage'].mean(),3), 'kwh' + color.END)"
   ]
  },
  {
   "cell_type": "markdown",
   "id": "3f7bb595",
   "metadata": {},
   "source": [
    "<H3>Sual 2\n",
    "<H6>What is your average electricity usage perhour in February?"
   ]
  },
  {
   "cell_type": "code",
   "execution_count": 184,
   "id": "e29f3562",
   "metadata": {},
   "outputs": [
    {
     "name": "stdout",
     "output_type": "stream",
     "text": [
      "Average electricity usage  per hour  in  Febral: 0.833 kwh\n"
     ]
    }
   ],
   "source": [
    "avg_usage_feb = df[df['Month'] == 'Feb'].groupby(pd.PeriodIndex(df[df['Month'] == 'Feb']['Time'], freq = \"h\")).mean().reset_index()['Usage'].mean()\n",
    "print('Average electricity usage  per hour  in  Febral:',\n",
    "round(avg_usage_feb, 3), 'kwh')"
   ]
  },
  {
   "cell_type": "markdown",
   "id": "8f0bff58",
   "metadata": {},
   "source": [
    "<H3>Sual 3\n",
    "<H6>Which day of the week has the highest average usage?"
   ]
  },
  {
   "cell_type": "code",
   "execution_count": 185,
   "id": "36e23bc8",
   "metadata": {},
   "outputs": [],
   "source": [
    "df_weekly = df.groupby(df['Weekday']).mean().reset_index()"
   ]
  },
  {
   "cell_type": "code",
   "execution_count": 186,
   "id": "b6a1574d",
   "metadata": {},
   "outputs": [
    {
     "data": {
      "text/html": [
       "<div>\n",
       "<style scoped>\n",
       "    .dataframe tbody tr th:only-of-type {\n",
       "        vertical-align: middle;\n",
       "    }\n",
       "\n",
       "    .dataframe tbody tr th {\n",
       "        vertical-align: top;\n",
       "    }\n",
       "\n",
       "    .dataframe thead th {\n",
       "        text-align: right;\n",
       "    }\n",
       "</style>\n",
       "<table border=\"1\" class=\"dataframe\">\n",
       "  <thead>\n",
       "    <tr style=\"text-align: right;\">\n",
       "      <th></th>\n",
       "      <th>Weekday</th>\n",
       "      <th>Usage</th>\n",
       "    </tr>\n",
       "  </thead>\n",
       "  <tbody>\n",
       "    <tr>\n",
       "      <th>0</th>\n",
       "      <td>Friday</td>\n",
       "      <td>0.753666</td>\n",
       "    </tr>\n",
       "    <tr>\n",
       "      <th>1</th>\n",
       "      <td>Monday</td>\n",
       "      <td>0.725894</td>\n",
       "    </tr>\n",
       "    <tr>\n",
       "      <th>2</th>\n",
       "      <td>Saturday</td>\n",
       "      <td>0.890300</td>\n",
       "    </tr>\n",
       "    <tr>\n",
       "      <th>3</th>\n",
       "      <td>Sunday</td>\n",
       "      <td>0.898601</td>\n",
       "    </tr>\n",
       "    <tr>\n",
       "      <th>4</th>\n",
       "      <td>Thursday</td>\n",
       "      <td>0.746375</td>\n",
       "    </tr>\n",
       "    <tr>\n",
       "      <th>5</th>\n",
       "      <td>Tuesday</td>\n",
       "      <td>0.724843</td>\n",
       "    </tr>\n",
       "    <tr>\n",
       "      <th>6</th>\n",
       "      <td>Wednesday</td>\n",
       "      <td>0.733699</td>\n",
       "    </tr>\n",
       "  </tbody>\n",
       "</table>\n",
       "</div>"
      ],
      "text/plain": [
       "     Weekday     Usage\n",
       "0     Friday  0.753666\n",
       "1     Monday  0.725894\n",
       "2   Saturday  0.890300\n",
       "3     Sunday  0.898601\n",
       "4   Thursday  0.746375\n",
       "5    Tuesday  0.724843\n",
       "6  Wednesday  0.733699"
      ]
     },
     "execution_count": 186,
     "metadata": {},
     "output_type": "execute_result"
    }
   ],
   "source": [
    "df_weekly"
   ]
  },
  {
   "cell_type": "code",
   "execution_count": 187,
   "id": "7a45cfae",
   "metadata": {},
   "outputs": [
    {
     "data": {
      "text/html": [
       "<div>\n",
       "<style scoped>\n",
       "    .dataframe tbody tr th:only-of-type {\n",
       "        vertical-align: middle;\n",
       "    }\n",
       "\n",
       "    .dataframe tbody tr th {\n",
       "        vertical-align: top;\n",
       "    }\n",
       "\n",
       "    .dataframe thead th {\n",
       "        text-align: right;\n",
       "    }\n",
       "</style>\n",
       "<table border=\"1\" class=\"dataframe\">\n",
       "  <thead>\n",
       "    <tr style=\"text-align: right;\">\n",
       "      <th></th>\n",
       "      <th>Weekday</th>\n",
       "      <th>Usage</th>\n",
       "    </tr>\n",
       "  </thead>\n",
       "  <tbody>\n",
       "    <tr>\n",
       "      <th>3</th>\n",
       "      <td>Sunday</td>\n",
       "      <td>0.898601</td>\n",
       "    </tr>\n",
       "  </tbody>\n",
       "</table>\n",
       "</div>"
      ],
      "text/plain": [
       "  Weekday     Usage\n",
       "3  Sunday  0.898601"
      ]
     },
     "execution_count": 187,
     "metadata": {},
     "output_type": "execute_result"
    }
   ],
   "source": [
    "df_weekly[df_weekly['Usage'] == df_weekly['Usage'].max()]"
   ]
  },
  {
   "cell_type": "code",
   "execution_count": 221,
   "id": "9cb51b4a",
   "metadata": {},
   "outputs": [
    {
     "data": {
      "image/png": "[encoded data removed]",
      "text/plain": [
       "<Figure size 1500x600 with 1 Axes>"
      ]
     },
     "metadata": {},
     "output_type": "display_data"
    }
   ],
   "source": [
    "import matplotlib.pyplot as plt\n",
    "\n",
    "plt.figure(figsize=(15, 6))\n",
    "plt.bar(df_weekly['Weekday'], df_weekly['Usage'], width=0.7)\n",
    "plt.xlabel('Weekday')\n",
    "plt.ylabel('Usage')\n",
    "plt.title('Daily average usage')\n",
    "\n",
    "for i, v in enumerate(df_weekly['Usage']):\n",
    "    plt.text(i, v + 0.01, str(round(v, 4)) + ' kwh', ha='center')\n"
   ]
  },
  {
   "cell_type": "code",
   "execution_count": 222,
   "id": "0db3fa58",
   "metadata": {},
   "outputs": [
    {
     "name": "stdout",
     "output_type": "stream",
     "text": [
      "Answer: Sunday has the highest average usage.\n"
     ]
    }
   ],
   "source": [
    "print('Answer: Sunday has the highest average usage.')"
   ]
  },
  {
   "cell_type": "markdown",
   "id": "be65964e",
   "metadata": {},
   "source": [
    "<H3>Sual 4\n",
    "<H6>What is the highest amount of electricity used in a continuous 4 hour period?"
   ]
  },
  {
   "cell_type": "code",
   "execution_count": 223,
   "id": "9d4b3687",
   "metadata": {},
   "outputs": [],
   "source": [
    "sorted_df = df.drop('Time', axis = 1)\n",
    "sorted_df['Time'] = time\n",
    "sorted_df['AM/PM'] = AM_PM"
   ]
  },
  {
   "cell_type": "code",
   "execution_count": 224,
   "id": "e0331969",
   "metadata": {},
   "outputs": [],
   "source": [
    "\n",
    "sorted_df = sorted_df.sort_values(by = [\"Date\",'AM/PM', \"Time\"], ascending = True)"
   ]
  },
  {
   "cell_type": "code",
   "execution_count": 225,
   "id": "6490088b",
   "metadata": {},
   "outputs": [
    {
     "data": {
      "text/html": [
       "<div>\n",
       "<style scoped>\n",
       "    .dataframe tbody tr th:only-of-type {\n",
       "        vertical-align: middle;\n",
       "    }\n",
       "\n",
       "    .dataframe tbody tr th {\n",
       "        vertical-align: top;\n",
       "    }\n",
       "\n",
       "    .dataframe thead th {\n",
       "        text-align: right;\n",
       "    }\n",
       "</style>\n",
       "<table border=\"1\" class=\"dataframe\">\n",
       "  <thead>\n",
       "    <tr style=\"text-align: right;\">\n",
       "      <th></th>\n",
       "      <th>Weekday</th>\n",
       "      <th>Month</th>\n",
       "      <th>Date</th>\n",
       "      <th>Usage</th>\n",
       "      <th>Unit</th>\n",
       "      <th>Time</th>\n",
       "      <th>AM/PM</th>\n",
       "    </tr>\n",
       "  </thead>\n",
       "  <tbody>\n",
       "    <tr>\n",
       "      <th>6316</th>\n",
       "      <td>Wednesday</td>\n",
       "      <td>Jan</td>\n",
       "      <td>2014-01-01</td>\n",
       "      <td>0.340</td>\n",
       "      <td>kwh</td>\n",
       "      <td>1</td>\n",
       "      <td>AM</td>\n",
       "    </tr>\n",
       "    <tr>\n",
       "      <th>5987</th>\n",
       "      <td>Wednesday</td>\n",
       "      <td>Jan</td>\n",
       "      <td>2014-01-01</td>\n",
       "      <td>0.952</td>\n",
       "      <td>kwh</td>\n",
       "      <td>10</td>\n",
       "      <td>AM</td>\n",
       "    </tr>\n",
       "    <tr>\n",
       "      <th>4591</th>\n",
       "      <td>Wednesday</td>\n",
       "      <td>Jan</td>\n",
       "      <td>2014-01-01</td>\n",
       "      <td>0.830</td>\n",
       "      <td>kwh</td>\n",
       "      <td>11</td>\n",
       "      <td>AM</td>\n",
       "    </tr>\n",
       "    <tr>\n",
       "      <th>8425</th>\n",
       "      <td>Wednesday</td>\n",
       "      <td>Jan</td>\n",
       "      <td>2014-01-01</td>\n",
       "      <td>0.684</td>\n",
       "      <td>kwh</td>\n",
       "      <td>12</td>\n",
       "      <td>AM</td>\n",
       "    </tr>\n",
       "    <tr>\n",
       "      <th>5068</th>\n",
       "      <td>Wednesday</td>\n",
       "      <td>Jan</td>\n",
       "      <td>2014-01-01</td>\n",
       "      <td>0.332</td>\n",
       "      <td>kwh</td>\n",
       "      <td>2</td>\n",
       "      <td>AM</td>\n",
       "    </tr>\n",
       "    <tr>\n",
       "      <th>...</th>\n",
       "      <td>...</td>\n",
       "      <td>...</td>\n",
       "      <td>...</td>\n",
       "      <td>...</td>\n",
       "      <td>...</td>\n",
       "      <td>...</td>\n",
       "      <td>...</td>\n",
       "    </tr>\n",
       "    <tr>\n",
       "      <th>6339</th>\n",
       "      <td>Wednesday</td>\n",
       "      <td>Dec</td>\n",
       "      <td>2014-12-31</td>\n",
       "      <td>1.544</td>\n",
       "      <td>kwh</td>\n",
       "      <td>5</td>\n",
       "      <td>PM</td>\n",
       "    </tr>\n",
       "    <tr>\n",
       "      <th>2993</th>\n",
       "      <td>Wednesday</td>\n",
       "      <td>Dec</td>\n",
       "      <td>2014-12-31</td>\n",
       "      <td>1.448</td>\n",
       "      <td>kwh</td>\n",
       "      <td>6</td>\n",
       "      <td>PM</td>\n",
       "    </tr>\n",
       "    <tr>\n",
       "      <th>7408</th>\n",
       "      <td>Wednesday</td>\n",
       "      <td>Dec</td>\n",
       "      <td>2014-12-31</td>\n",
       "      <td>1.940</td>\n",
       "      <td>kwh</td>\n",
       "      <td>7</td>\n",
       "      <td>PM</td>\n",
       "    </tr>\n",
       "    <tr>\n",
       "      <th>7959</th>\n",
       "      <td>Wednesday</td>\n",
       "      <td>Dec</td>\n",
       "      <td>2014-12-31</td>\n",
       "      <td>1.901</td>\n",
       "      <td>kwh</td>\n",
       "      <td>8</td>\n",
       "      <td>PM</td>\n",
       "    </tr>\n",
       "    <tr>\n",
       "      <th>7703</th>\n",
       "      <td>Wednesday</td>\n",
       "      <td>Dec</td>\n",
       "      <td>2014-12-31</td>\n",
       "      <td>0.766</td>\n",
       "      <td>kwh</td>\n",
       "      <td>9</td>\n",
       "      <td>PM</td>\n",
       "    </tr>\n",
       "  </tbody>\n",
       "</table>\n",
       "<p>8760 rows × 7 columns</p>\n",
       "</div>"
      ],
      "text/plain": [
       "        Weekday Month       Date  Usage Unit Time AM/PM\n",
       "6316  Wednesday   Jan 2014-01-01  0.340  kwh    1    AM\n",
       "5987  Wednesday   Jan 2014-01-01  0.952  kwh   10    AM\n",
       "4591  Wednesday   Jan 2014-01-01  0.830  kwh   11    AM\n",
       "8425  Wednesday   Jan 2014-01-01  0.684  kwh   12    AM\n",
       "5068  Wednesday   Jan 2014-01-01  0.332  kwh    2    AM\n",
       "...         ...   ...        ...    ...  ...  ...   ...\n",
       "6339  Wednesday   Dec 2014-12-31  1.544  kwh    5    PM\n",
       "2993  Wednesday   Dec 2014-12-31  1.448  kwh    6    PM\n",
       "7408  Wednesday   Dec 2014-12-31  1.940  kwh    7    PM\n",
       "7959  Wednesday   Dec 2014-12-31  1.901  kwh    8    PM\n",
       "7703  Wednesday   Dec 2014-12-31  0.766  kwh    9    PM\n",
       "\n",
       "[8760 rows x 7 columns]"
      ]
     },
     "execution_count": 225,
     "metadata": {},
     "output_type": "execute_result"
    }
   ],
   "source": [
    "sorted_df"
   ]
  },
  {
   "cell_type": "code",
   "execution_count": 226,
   "id": "eaf5e7bb",
   "metadata": {},
   "outputs": [],
   "source": [
    "#filter edirik july cixartmaq ucun\n",
    "jul = sorted_df[sorted_df['Month'] == 'Jul']\n",
    "jul.reset_index(inplace = True, drop = True)"
   ]
  },
  {
   "cell_type": "code",
   "execution_count": 227,
   "id": "515828a8",
   "metadata": {},
   "outputs": [
    {
     "data": {
      "text/html": [
       "<div>\n",
       "<style scoped>\n",
       "    .dataframe tbody tr th:only-of-type {\n",
       "        vertical-align: middle;\n",
       "    }\n",
       "\n",
       "    .dataframe tbody tr th {\n",
       "        vertical-align: top;\n",
       "    }\n",
       "\n",
       "    .dataframe thead th {\n",
       "        text-align: right;\n",
       "    }\n",
       "</style>\n",
       "<table border=\"1\" class=\"dataframe\">\n",
       "  <thead>\n",
       "    <tr style=\"text-align: right;\">\n",
       "      <th></th>\n",
       "      <th>Weekday</th>\n",
       "      <th>Month</th>\n",
       "      <th>Date</th>\n",
       "      <th>Usage</th>\n",
       "      <th>Unit</th>\n",
       "      <th>Time</th>\n",
       "      <th>AM/PM</th>\n",
       "    </tr>\n",
       "  </thead>\n",
       "  <tbody>\n",
       "    <tr>\n",
       "      <th>0</th>\n",
       "      <td>Tuesday</td>\n",
       "      <td>Jul</td>\n",
       "      <td>2014-07-01</td>\n",
       "      <td>0.475</td>\n",
       "      <td>kwh</td>\n",
       "      <td>1</td>\n",
       "      <td>AM</td>\n",
       "    </tr>\n",
       "    <tr>\n",
       "      <th>1</th>\n",
       "      <td>Tuesday</td>\n",
       "      <td>Jul</td>\n",
       "      <td>2014-07-01</td>\n",
       "      <td>0.778</td>\n",
       "      <td>kwh</td>\n",
       "      <td>10</td>\n",
       "      <td>AM</td>\n",
       "    </tr>\n",
       "    <tr>\n",
       "      <th>2</th>\n",
       "      <td>Tuesday</td>\n",
       "      <td>Jul</td>\n",
       "      <td>2014-07-01</td>\n",
       "      <td>1.020</td>\n",
       "      <td>kwh</td>\n",
       "      <td>11</td>\n",
       "      <td>AM</td>\n",
       "    </tr>\n",
       "    <tr>\n",
       "      <th>3</th>\n",
       "      <td>Tuesday</td>\n",
       "      <td>Jul</td>\n",
       "      <td>2014-07-01</td>\n",
       "      <td>0.857</td>\n",
       "      <td>kwh</td>\n",
       "      <td>12</td>\n",
       "      <td>AM</td>\n",
       "    </tr>\n",
       "    <tr>\n",
       "      <th>4</th>\n",
       "      <td>Tuesday</td>\n",
       "      <td>Jul</td>\n",
       "      <td>2014-07-01</td>\n",
       "      <td>0.403</td>\n",
       "      <td>kwh</td>\n",
       "      <td>2</td>\n",
       "      <td>AM</td>\n",
       "    </tr>\n",
       "    <tr>\n",
       "      <th>...</th>\n",
       "      <td>...</td>\n",
       "      <td>...</td>\n",
       "      <td>...</td>\n",
       "      <td>...</td>\n",
       "      <td>...</td>\n",
       "      <td>...</td>\n",
       "      <td>...</td>\n",
       "    </tr>\n",
       "    <tr>\n",
       "      <th>739</th>\n",
       "      <td>Thursday</td>\n",
       "      <td>Jul</td>\n",
       "      <td>2014-07-31</td>\n",
       "      <td>2.777</td>\n",
       "      <td>kwh</td>\n",
       "      <td>5</td>\n",
       "      <td>PM</td>\n",
       "    </tr>\n",
       "    <tr>\n",
       "      <th>740</th>\n",
       "      <td>Thursday</td>\n",
       "      <td>Jul</td>\n",
       "      <td>2014-07-31</td>\n",
       "      <td>3.494</td>\n",
       "      <td>kwh</td>\n",
       "      <td>6</td>\n",
       "      <td>PM</td>\n",
       "    </tr>\n",
       "    <tr>\n",
       "      <th>741</th>\n",
       "      <td>Thursday</td>\n",
       "      <td>Jul</td>\n",
       "      <td>2014-07-31</td>\n",
       "      <td>3.974</td>\n",
       "      <td>kwh</td>\n",
       "      <td>7</td>\n",
       "      <td>PM</td>\n",
       "    </tr>\n",
       "    <tr>\n",
       "      <th>742</th>\n",
       "      <td>Thursday</td>\n",
       "      <td>Jul</td>\n",
       "      <td>2014-07-31</td>\n",
       "      <td>3.110</td>\n",
       "      <td>kwh</td>\n",
       "      <td>8</td>\n",
       "      <td>PM</td>\n",
       "    </tr>\n",
       "    <tr>\n",
       "      <th>743</th>\n",
       "      <td>Thursday</td>\n",
       "      <td>Jul</td>\n",
       "      <td>2014-07-31</td>\n",
       "      <td>1.382</td>\n",
       "      <td>kwh</td>\n",
       "      <td>9</td>\n",
       "      <td>PM</td>\n",
       "    </tr>\n",
       "  </tbody>\n",
       "</table>\n",
       "<p>744 rows × 7 columns</p>\n",
       "</div>"
      ],
      "text/plain": [
       "      Weekday Month       Date  Usage Unit Time AM/PM\n",
       "0     Tuesday   Jul 2014-07-01  0.475  kwh    1    AM\n",
       "1     Tuesday   Jul 2014-07-01  0.778  kwh   10    AM\n",
       "2     Tuesday   Jul 2014-07-01  1.020  kwh   11    AM\n",
       "3     Tuesday   Jul 2014-07-01  0.857  kwh   12    AM\n",
       "4     Tuesday   Jul 2014-07-01  0.403  kwh    2    AM\n",
       "..        ...   ...        ...    ...  ...  ...   ...\n",
       "739  Thursday   Jul 2014-07-31  2.777  kwh    5    PM\n",
       "740  Thursday   Jul 2014-07-31  3.494  kwh    6    PM\n",
       "741  Thursday   Jul 2014-07-31  3.974  kwh    7    PM\n",
       "742  Thursday   Jul 2014-07-31  3.110  kwh    8    PM\n",
       "743  Thursday   Jul 2014-07-31  1.382  kwh    9    PM\n",
       "\n",
       "[744 rows x 7 columns]"
      ]
     },
     "execution_count": 227,
     "metadata": {},
     "output_type": "execute_result"
    }
   ],
   "source": [
    "jul"
   ]
  },
  {
   "cell_type": "code",
   "execution_count": 228,
   "id": "6aa4c274",
   "metadata": {},
   "outputs": [],
   "source": [
    "sum_4_usages = []\n",
    "for i in range(len(jul)):\n",
    "    sum_4_usages.append(jul.iloc[i:i+4]['Usage'].sum())"
   ]
  },
  {
   "cell_type": "code",
   "execution_count": 229,
   "id": "a5204eb6",
   "metadata": {},
   "outputs": [
    {
     "name": "stdout",
     "output_type": "stream",
     "text": [
      "The highest amount of electricity use in a continuous 4 hour period happened in July and is 17.237 kwh\n"
     ]
    }
   ],
   "source": [
    "#\n",
    "print('The highest amount of electricity use in a continuous 4 hour period happened in July and is', round(max(sum_4_usages), 3), 'kwh' )"
   ]
  },
  {
   "cell_type": "markdown",
   "id": "03884548",
   "metadata": {},
   "source": [
    "<H3>Sual 5\n",
    "<H6>Based on your historic electricity usage, what would your annual cost of electricitybe under the \"Monthly Flex\" contract?"
   ]
  },
  {
   "cell_type": "code",
   "execution_count": 230,
   "id": "7b002265",
   "metadata": {},
   "outputs": [
    {
     "name": "stdout",
     "output_type": "stream",
     "text": [
      "Annual cost at a Monthly Flex of electricity:  1421.20577 $\n"
     ]
    }
   ],
   "source": [
    "print('Annual cost at a Monthly Flex of electricity: ', (df_sum['Qiymet'] * df_sum['Usage']).sum(), '$')"
   ]
  },
  {
   "cell_type": "markdown",
   "id": "4aeb3abc",
   "metadata": {},
   "source": [
    "<H3>Sual 6\n",
    "<H6>Based on your historic electricity usage, which of the three contracts would produce the lowest annual cost?"
   ]
  },
  {
   "cell_type": "code",
   "execution_count": 231,
   "id": "9b5ad27c",
   "metadata": {},
   "outputs": [
    {
     "name": "stdout",
     "output_type": "stream",
     "text": [
      "Annual cost at a Fixed Price of electricity:  1438.10394 $\u001b[0m\n",
      "Annual cost at a Monthly Flex of electricity: 1421.20577 $\u001b[0m\n",
      "Annual cost at a Hourly Flex of electricity: 1394.30014 $\u001b[0m\n",
      "Answer is Hourly Flex\n"
     ]
    }
   ],
   "source": [
    "print('Annual cost at a Fixed Price of electricity: ',df.groupby(pd.PeriodIndex(df['Date'], freq = \"M\")).sum().sum()[0] * 0.21, '$' + color.END)\n",
    "print('Annual cost at a Monthly Flex of electricity:',(df_sum['Qiymet'] * df_sum['Usage']).sum(),'$' + color.END)\n",
    "print('Annual cost at a Hourly Flex of electricity:', round((df_sum_hour['Usage'] * df_sum_hour['Qiymet']).sum(),5),'$' + color.END)\n",
    "print('Answer is Hourly Flex' )"
   ]
  },
  {
   "cell_type": "code",
   "execution_count": null,
   "id": "9d815e8b",
   "metadata": {},
   "outputs": [],
   "source": []
  },
  {
   "cell_type": "code",
   "execution_count": null,
   "id": "630af0dd",
   "metadata": {},
   "outputs": [],
   "source": []
  },
  {
   "cell_type": "code",
   "execution_count": null,
   "id": "c9043537",
   "metadata": {},
   "outputs": [],
   "source": []
  },
  {
   "cell_type": "code",
   "execution_count": null,
   "id": "fdf62a6d",
   "metadata": {},
   "outputs": [],
   "source": []
  },
  {
   "cell_type": "code",
   "execution_count": null,
   "id": "6ed1cc85",
   "metadata": {},
   "outputs": [],
   "source": []
  },
  {
   "cell_type": "code",
   "execution_count": null,
   "id": "bdade751",
   "metadata": {},
   "outputs": [],
   "source": []
  }
 ],
 "metadata": {
  "kernelspec": {
   "display_name": "Python 3 (ipykernel)",
   "language": "python",
   "name": "python3"
  },
  "language_info": {
   "codemirror_mode": {
    "name": "ipython",
    "version": 3
   },
   "file_extension": ".py",
   "mimetype": "text/x-python",
   "name": "python",
   "nbconvert_exporter": "python",
   "pygments_lexer": "ipython3",
   "version": "3.9.13"
  }
 },
 "nbformat": 4,
 "nbformat_minor": 5
}
